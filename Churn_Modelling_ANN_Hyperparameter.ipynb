{
 "cells": [
  {
   "cell_type": "markdown",
   "id": "04249ca0",
   "metadata": {},
   "source": [
    "## Part 1 - Data Preprocessing"
   ]
  },
  {
   "cell_type": "code",
   "execution_count": 1,
   "id": "6c1b86e6",
   "metadata": {},
   "outputs": [],
   "source": [
    "# Importing the libraries\n",
    "import numpy as np\n",
    "import matplotlib.pyplot as plt\n",
    "import pandas as pd"
   ]
  },
  {
   "cell_type": "code",
   "execution_count": 2,
   "id": "ed54856f",
   "metadata": {},
   "outputs": [],
   "source": [
    "# Importing the dataset\n",
    "dataset = pd.read_csv('Churn_Modelling.csv')\n",
    "X = dataset.iloc[:, 3:13]\n",
    "y = dataset.iloc[:, 13]"
   ]
  },
  {
   "cell_type": "code",
   "execution_count": 3,
   "id": "d3e61ade",
   "metadata": {},
   "outputs": [],
   "source": [
    "#Create dummy variables\n",
    "geography=pd.get_dummies(X[\"Geography\"],drop_first=True)\n",
    "gender=pd.get_dummies(X['Gender'],drop_first=True)"
   ]
  },
  {
   "cell_type": "code",
   "execution_count": 4,
   "id": "13563160",
   "metadata": {},
   "outputs": [],
   "source": [
    "## Concatenate the Data Frames\n",
    "\n",
    "X=pd.concat([X,geography,gender],axis=1)\n"
   ]
  },
  {
   "cell_type": "code",
   "execution_count": 5,
   "id": "e4d00f63",
   "metadata": {},
   "outputs": [],
   "source": [
    "## Drop Unnecessary columns\n",
    "X=X.drop(['Geography','Gender'],axis=1)"
   ]
  },
  {
   "cell_type": "code",
   "execution_count": 6,
   "id": "7644bfa5",
   "metadata": {},
   "outputs": [],
   "source": [
    "# Splitting the dataset into the Training set and Test set\n",
    "from sklearn.model_selection import train_test_split\n",
    "X_train, X_test, y_train, y_test = train_test_split(X, y, test_size = 0.2, random_state = 0)\n"
   ]
  },
  {
   "cell_type": "code",
   "execution_count": 7,
   "id": "49339a6b",
   "metadata": {},
   "outputs": [],
   "source": [
    "# Feature Scaling\n",
    "from sklearn.preprocessing import StandardScaler\n",
    "sc = StandardScaler()\n",
    "X_train = sc.fit_transform(X_train)\n",
    "X_test = sc.transform(X_test)"
   ]
  },
  {
   "cell_type": "markdown",
   "id": "7d40c7b2",
   "metadata": {},
   "source": [
    "## Perform Hyperparameter Optimization"
   ]
  },
  {
   "cell_type": "code",
   "execution_count": 8,
   "id": "16db8fe7",
   "metadata": {},
   "outputs": [],
   "source": [
    "from tensorflow import keras\n",
    "from tensorflow.keras import layers\n",
    "from keras_tuner.tuners import RandomSearch"
   ]
  },
  {
   "cell_type": "code",
   "execution_count": 9,
   "id": "4f757eb5",
   "metadata": {},
   "outputs": [],
   "source": [
    "def built_model(hp):\n",
    "    model= keras.Sequential()\n",
    "    for i in range(hp.Int('number of layers',2,20)): #for the number of hidden layers \n",
    "        model.add(layers.Dense(\n",
    "            units=hp.Int(\"units_\" + str(i), min_value=32, max_value=512, step=32), #for no of neurons in hidden layers\n",
    "                activation=\"relu\"))\n",
    "        model.add(layers.Dense(units=1,activation='linear')) # this is output layers and no of nuerons =1\n",
    "        model.compile(\n",
    "        optimizer=keras.optimizers.Adam(\n",
    "            hp.Choice('learning_rate', [1e-2, 1e-3, 1e-4])), # for choosing learning rate\n",
    "            loss='binary_crossentropy',     # for linear we choose loss function-- mean_squared_error, classification-binary_crossentropy\n",
    "            metrics=['accuracy'])  # for linear matrics----> mean_absolute error, claasification matics---> [accuracy]\n",
    "        return model    \n",
    "        "
   ]
  },
  {
   "cell_type": "code",
   "execution_count": 10,
   "id": "e05b377a",
   "metadata": {},
   "outputs": [
    {
     "name": "stdout",
     "output_type": "stream",
     "text": [
      "INFO:tensorflow:Reloading Oracle from existing project project\\churn\\oracle.json\n",
      "INFO:tensorflow:Reloading Tuner from project\\churn\\tuner0.json\n"
     ]
    }
   ],
   "source": [
    "tuner= RandomSearch(built_model,\n",
    "                   objective='val_accuracy',  #classification----> val_accuracy\n",
    "                   max_trials=5,\n",
    "                   executions_per_trial=3,\n",
    "                   directory='project',\n",
    "                   project_name='churn') "
   ]
  },
  {
   "cell_type": "code",
   "execution_count": 11,
   "id": "30a6f69a",
   "metadata": {},
   "outputs": [
    {
     "name": "stdout",
     "output_type": "stream",
     "text": [
      "Search space summary\n",
      "Default search space size: 3\n",
      "number of layers (Int)\n",
      "{'default': None, 'conditions': [], 'min_value': 2, 'max_value': 20, 'step': 1, 'sampling': None}\n",
      "units_0 (Int)\n",
      "{'default': None, 'conditions': [], 'min_value': 32, 'max_value': 512, 'step': 32, 'sampling': None}\n",
      "learning_rate (Choice)\n",
      "{'default': 0.01, 'conditions': [], 'values': [0.01, 0.001, 0.0001], 'ordered': True}\n"
     ]
    }
   ],
   "source": [
    "#You can print a summary of the search space:\n",
    "tuner.search_space_summary()"
   ]
  },
  {
   "cell_type": "code",
   "execution_count": 12,
   "id": "6e183c4e",
   "metadata": {},
   "outputs": [
    {
     "name": "stdout",
     "output_type": "stream",
     "text": [
      "INFO:tensorflow:Oracle triggered exit\n"
     ]
    }
   ],
   "source": [
    "#Then, start the search for the best hyperparameter configuration. The call to search has the same signature as model.fit().\n",
    "tuner.search(X_train, y_train,\n",
    "             epochs=5,\n",
    "             validation_data=(X_test, y_test))"
   ]
  },
  {
   "cell_type": "code",
   "execution_count": 13,
   "id": "1c043ff7",
   "metadata": {},
   "outputs": [],
   "source": [
    "#When search is over, you can retrieve the best model(s):\n",
    "models_tuner = tuner.get_best_models(num_models=2)\n"
   ]
  },
  {
   "cell_type": "code",
   "execution_count": 14,
   "id": "83827b09",
   "metadata": {},
   "outputs": [
    {
     "name": "stdout",
     "output_type": "stream",
     "text": [
      "Results summary\n",
      "Results in project\\churn\n",
      "Showing 10 best trials\n",
      "Objective(name='val_accuracy', direction='max')\n",
      "Trial summary\n",
      "Hyperparameters:\n",
      "number of layers: 7\n",
      "units_0: 512\n",
      "learning_rate: 0.001\n",
      "Score: 0.8425000111262003\n",
      "Trial summary\n",
      "Hyperparameters:\n",
      "number of layers: 8\n",
      "units_0: 480\n",
      "learning_rate: 0.001\n",
      "Score: 0.8215000033378601\n",
      "Trial summary\n",
      "Hyperparameters:\n",
      "number of layers: 11\n",
      "units_0: 480\n",
      "learning_rate: 0.01\n",
      "Score: 0.8008333444595337\n",
      "Trial summary\n",
      "Hyperparameters:\n",
      "number of layers: 5\n",
      "units_0: 416\n",
      "learning_rate: 0.01\n",
      "Score: 0.7986666758855184\n",
      "Trial summary\n",
      "Hyperparameters:\n",
      "number of layers: 5\n",
      "units_0: 192\n",
      "learning_rate: 0.0001\n",
      "Score: 0.7883333365122477\n"
     ]
    }
   ],
   "source": [
    "#Or print a summary of the results:\n",
    "tuner.results_summary() #result of best model"
   ]
  },
  {
   "cell_type": "markdown",
   "id": "5b9e5340",
   "metadata": {},
   "source": [
    "## Perform Hyperparameter Optimization: M-2"
   ]
  },
  {
   "cell_type": "code",
   "execution_count": 15,
   "id": "86218620",
   "metadata": {},
   "outputs": [],
   "source": [
    "\n",
    "from keras.wrappers.scikit_learn import KerasClassifier\n",
    "from sklearn.model_selection import GridSearchCV\n",
    "\n",
    "from keras.models import Sequential\n",
    "from keras.layers import Dense, Activation, Embedding, Flatten, LeakyReLU, BatchNormalization, Dropout\n",
    "from keras.activations import relu, sigmoid"
   ]
  },
  {
   "cell_type": "code",
   "execution_count": 16,
   "id": "39c15de6",
   "metadata": {},
   "outputs": [],
   "source": [
    "def create_model(layers, activation):\n",
    "    model = Sequential()\n",
    "    for i, nodes in enumerate(layers):\n",
    "        if i==0:\n",
    "            model.add(Dense(nodes,input_dim=X_train.shape[1])) #at first hidden layer it will take input_dim= X_train.shape[1]=11\n",
    "            model.add(Activation(activation)) # add activation \n",
    "            model.add(Dropout(0.3)) # here we are using dropout to prevent overfitting\n",
    "        else:\n",
    "            model.add(Dense(nodes))\n",
    "            model.add(Activation(activation))\n",
    "            model.add(Dropout(0.3))\n",
    "            \n",
    "    model.add(Dense(units = 1, kernel_initializer= 'glorot_uniform', activation = 'sigmoid')) # Note: no activation beyond this point\n",
    "    \n",
    "    model.compile(optimizer='adam', loss='binary_crossentropy',metrics=['accuracy']) # since this is binary classification problem\n",
    "    return model\n"
   ]
  },
  {
   "cell_type": "code",
   "execution_count": 17,
   "id": "21305bb4",
   "metadata": {},
   "outputs": [],
   "source": [
    "#creating classifer model\n",
    "model = KerasClassifier(build_fn=create_model, verbose=0) "
   ]
  },
  {
   "cell_type": "code",
   "execution_count": 18,
   "id": "522726d9",
   "metadata": {},
   "outputs": [],
   "source": [
    "layers = [[20], [40, 20], [45, 30, 15]]  #here we are proving layers in first-- one hidden layer with 20 neurons, 2nd-->2 hidden layr with 20 and 40 neurons \n",
    "activations = ['sigmoid', 'relu']  #here we are provinding two activation functions for hidden layers \n",
    "param_grid = dict(layers=layers, activation=activations, batch_size = [128, 256], epochs=[30]) #pass alway in form of dictionary\n",
    "grid = GridSearchCV(estimator=model, param_grid=param_grid,cv=5) \n"
   ]
  },
  {
   "cell_type": "code",
   "execution_count": 19,
   "id": "2fcacdc3",
   "metadata": {},
   "outputs": [],
   "source": [
    "# We will fit the model\n",
    "grid_result = grid.fit(X_train, y_train)"
   ]
  },
  {
   "cell_type": "code",
   "execution_count": 20,
   "id": "50be6f8e",
   "metadata": {},
   "outputs": [
    {
     "name": "stdout",
     "output_type": "stream",
     "text": [
      "0.8548749923706055 {'activation': 'relu', 'batch_size': 128, 'epochs': 30, 'layers': [45, 30, 15]}\n"
     ]
    }
   ],
   "source": [
    "print(grid_result.best_score_, grid_result.best_params_)"
   ]
  },
  {
   "cell_type": "code",
   "execution_count": 21,
   "id": "9af31609",
   "metadata": {},
   "outputs": [],
   "source": [
    "y_pred=grid.predict(X_test)\n"
   ]
  },
  {
   "cell_type": "code",
   "execution_count": 22,
   "id": "25554590",
   "metadata": {},
   "outputs": [
    {
     "name": "stdout",
     "output_type": "stream",
     "text": [
      "The accuracy of the model is 0.862\n",
      "[[1529   66]\n",
      " [ 210  195]]\n",
      "              precision    recall  f1-score   support\n",
      "\n",
      "           0       0.88      0.96      0.92      1595\n",
      "           1       0.75      0.48      0.59       405\n",
      "\n",
      "    accuracy                           0.86      2000\n",
      "   macro avg       0.81      0.72      0.75      2000\n",
      "weighted avg       0.85      0.86      0.85      2000\n",
      "\n"
     ]
    }
   ],
   "source": [
    "from sklearn.metrics import accuracy_score,confusion_matrix,classification_report\n",
    "accuracy=accuracy_score(y_test,y_pred)\n",
    "print('The accuracy of the model is', accuracy)\n",
    "cm=confusion_matrix(y_test,y_pred)\n",
    "print(cm)\n",
    "print(classification_report(y_test,y_pred))"
   ]
  },
  {
   "cell_type": "code",
   "execution_count": null,
   "id": "070cb3ef",
   "metadata": {},
   "outputs": [],
   "source": []
  }
 ],
 "metadata": {
  "kernelspec": {
   "display_name": "Python 3",
   "language": "python",
   "name": "python3"
  },
  "language_info": {
   "codemirror_mode": {
    "name": "ipython",
    "version": 3
   },
   "file_extension": ".py",
   "mimetype": "text/x-python",
   "name": "python",
   "nbconvert_exporter": "python",
   "pygments_lexer": "ipython3",
   "version": "3.8.8"
  }
 },
 "nbformat": 4,
 "nbformat_minor": 5
}
